{
  "nbformat": 4,
  "nbformat_minor": 0,
  "metadata": {
    "colab": {
      "provenance": []
    },
    "kernelspec": {
      "name": "python3",
      "display_name": "Python 3"
    },
    "language_info": {
      "name": "python"
    }
  },
  "cells": [
    {
      "cell_type": "code",
      "source": [
        "# 1) load fashion_mnist dataset\n",
        "# 2) Normalize the data\n",
        "# 3) Build a CNN Model using keras\n",
        "# 4) Train the model\n",
        "# 5) Evaluate the model\n",
        "# 6) take new image input from the user\n",
        "# 7) preprocess the image\n",
        "# 8) predict the class"
      ],
      "metadata": {
        "id": "Qaa5Dy8gLg9g"
      },
      "execution_count": null,
      "outputs": []
    },
    {
      "cell_type": "code",
      "source": [
        "import numpy as np\n",
        "import matplotlib.pyplot as plt\n",
        "import tensorflow as tlf\n",
        "from tensorflow.keras import models,layers\n",
        "from tensorflow.keras.datasets import fashion_mnist\n",
        "from tensorflow.keras.preprocessing import image\n",
        "from PIL import Image"
      ],
      "metadata": {
        "id": "lwgckFwSLimV"
      },
      "execution_count": null,
      "outputs": []
    },
    {
      "cell_type": "code",
      "source": [
        "#load dataset\n",
        "(x_train,y_train),(x_test,y_test)=fashion_mnist.load_data()\n",
        "print(x_train.shape,y_train.shape,x_test.shape,y_test.shape)\n",
        "print(np.unique(x_train))\n",
        "#dataset is of 28x28 pixels"
      ],
      "metadata": {
        "colab": {
          "base_uri": "https://localhost:8080/"
        },
        "id": "mrI7tsdyMHHu",
        "outputId": "7e90f019-b92b-4892-e32a-885762d5168f"
      },
      "execution_count": null,
      "outputs": [
        {
          "output_type": "stream",
          "name": "stdout",
          "text": [
            "(60000, 28, 28) (60000,) (10000, 28, 28) (10000,)\n",
            "[  0   1   2   3   4   5   6   7   8   9  10  11  12  13  14  15  16  17\n",
            "  18  19  20  21  22  23  24  25  26  27  28  29  30  31  32  33  34  35\n",
            "  36  37  38  39  40  41  42  43  44  45  46  47  48  49  50  51  52  53\n",
            "  54  55  56  57  58  59  60  61  62  63  64  65  66  67  68  69  70  71\n",
            "  72  73  74  75  76  77  78  79  80  81  82  83  84  85  86  87  88  89\n",
            "  90  91  92  93  94  95  96  97  98  99 100 101 102 103 104 105 106 107\n",
            " 108 109 110 111 112 113 114 115 116 117 118 119 120 121 122 123 124 125\n",
            " 126 127 128 129 130 131 132 133 134 135 136 137 138 139 140 141 142 143\n",
            " 144 145 146 147 148 149 150 151 152 153 154 155 156 157 158 159 160 161\n",
            " 162 163 164 165 166 167 168 169 170 171 172 173 174 175 176 177 178 179\n",
            " 180 181 182 183 184 185 186 187 188 189 190 191 192 193 194 195 196 197\n",
            " 198 199 200 201 202 203 204 205 206 207 208 209 210 211 212 213 214 215\n",
            " 216 217 218 219 220 221 222 223 224 225 226 227 228 229 230 231 232 233\n",
            " 234 235 236 237 238 239 240 241 242 243 244 245 246 247 248 249 250 251\n",
            " 252 253 254 255]\n"
          ]
        }
      ]
    },
    {
      "cell_type": "code",
      "source": [
        "#Normalize Data:- we normalize the data increase the performance of the model\n",
        "#because the computer run from 0.00000 to 255\n",
        "X_train=x_train/255.0\n",
        "X_test=x_test/255.0"
      ],
      "metadata": {
        "id": "txsHCftCNqS6"
      },
      "execution_count": null,
      "outputs": []
    },
    {
      "cell_type": "code",
      "source": [
        "print(np.unique(X_train))"
      ],
      "metadata": {
        "colab": {
          "base_uri": "https://localhost:8080/"
        },
        "id": "37omzUobN7bc",
        "outputId": "4e254d7b-4de2-41e0-e854-1e2899cb2908"
      },
      "execution_count": null,
      "outputs": [
        {
          "output_type": "stream",
          "name": "stdout",
          "text": [
            "[0.         0.00392157 0.00784314 0.01176471 0.01568627 0.01960784\n",
            " 0.02352941 0.02745098 0.03137255 0.03529412 0.03921569 0.04313725\n",
            " 0.04705882 0.05098039 0.05490196 0.05882353 0.0627451  0.06666667\n",
            " 0.07058824 0.0745098  0.07843137 0.08235294 0.08627451 0.09019608\n",
            " 0.09411765 0.09803922 0.10196078 0.10588235 0.10980392 0.11372549\n",
            " 0.11764706 0.12156863 0.1254902  0.12941176 0.13333333 0.1372549\n",
            " 0.14117647 0.14509804 0.14901961 0.15294118 0.15686275 0.16078431\n",
            " 0.16470588 0.16862745 0.17254902 0.17647059 0.18039216 0.18431373\n",
            " 0.18823529 0.19215686 0.19607843 0.2        0.20392157 0.20784314\n",
            " 0.21176471 0.21568627 0.21960784 0.22352941 0.22745098 0.23137255\n",
            " 0.23529412 0.23921569 0.24313725 0.24705882 0.25098039 0.25490196\n",
            " 0.25882353 0.2627451  0.26666667 0.27058824 0.2745098  0.27843137\n",
            " 0.28235294 0.28627451 0.29019608 0.29411765 0.29803922 0.30196078\n",
            " 0.30588235 0.30980392 0.31372549 0.31764706 0.32156863 0.3254902\n",
            " 0.32941176 0.33333333 0.3372549  0.34117647 0.34509804 0.34901961\n",
            " 0.35294118 0.35686275 0.36078431 0.36470588 0.36862745 0.37254902\n",
            " 0.37647059 0.38039216 0.38431373 0.38823529 0.39215686 0.39607843\n",
            " 0.4        0.40392157 0.40784314 0.41176471 0.41568627 0.41960784\n",
            " 0.42352941 0.42745098 0.43137255 0.43529412 0.43921569 0.44313725\n",
            " 0.44705882 0.45098039 0.45490196 0.45882353 0.4627451  0.46666667\n",
            " 0.47058824 0.4745098  0.47843137 0.48235294 0.48627451 0.49019608\n",
            " 0.49411765 0.49803922 0.50196078 0.50588235 0.50980392 0.51372549\n",
            " 0.51764706 0.52156863 0.5254902  0.52941176 0.53333333 0.5372549\n",
            " 0.54117647 0.54509804 0.54901961 0.55294118 0.55686275 0.56078431\n",
            " 0.56470588 0.56862745 0.57254902 0.57647059 0.58039216 0.58431373\n",
            " 0.58823529 0.59215686 0.59607843 0.6        0.60392157 0.60784314\n",
            " 0.61176471 0.61568627 0.61960784 0.62352941 0.62745098 0.63137255\n",
            " 0.63529412 0.63921569 0.64313725 0.64705882 0.65098039 0.65490196\n",
            " 0.65882353 0.6627451  0.66666667 0.67058824 0.6745098  0.67843137\n",
            " 0.68235294 0.68627451 0.69019608 0.69411765 0.69803922 0.70196078\n",
            " 0.70588235 0.70980392 0.71372549 0.71764706 0.72156863 0.7254902\n",
            " 0.72941176 0.73333333 0.7372549  0.74117647 0.74509804 0.74901961\n",
            " 0.75294118 0.75686275 0.76078431 0.76470588 0.76862745 0.77254902\n",
            " 0.77647059 0.78039216 0.78431373 0.78823529 0.79215686 0.79607843\n",
            " 0.8        0.80392157 0.80784314 0.81176471 0.81568627 0.81960784\n",
            " 0.82352941 0.82745098 0.83137255 0.83529412 0.83921569 0.84313725\n",
            " 0.84705882 0.85098039 0.85490196 0.85882353 0.8627451  0.86666667\n",
            " 0.87058824 0.8745098  0.87843137 0.88235294 0.88627451 0.89019608\n",
            " 0.89411765 0.89803922 0.90196078 0.90588235 0.90980392 0.91372549\n",
            " 0.91764706 0.92156863 0.9254902  0.92941176 0.93333333 0.9372549\n",
            " 0.94117647 0.94509804 0.94901961 0.95294118 0.95686275 0.96078431\n",
            " 0.96470588 0.96862745 0.97254902 0.97647059 0.98039216 0.98431373\n",
            " 0.98823529 0.99215686 0.99607843 1.        ]\n"
          ]
        }
      ]
    },
    {
      "cell_type": "code",
      "source": [
        "X_train = X_train.reshape(-1,28,28,1)#batch_size, height, width, channels(feature map, assign colors in the form of alpha)\n",
        "#batch_size = -1 it means it will be automatically adjusted\n",
        "X_test = X_test.reshape(-1,28,28,1)"
      ],
      "metadata": {
        "id": "0wQUEEifO8LQ"
      },
      "execution_count": null,
      "outputs": []
    },
    {
      "cell_type": "code",
      "source": [
        " #Create CNN Model -- based on sequential\n",
        " model = models.Sequential([\n",
        "     #1st layer build\n",
        "     layers.Conv2D(filters=32,kernel_size=(3,3),activation='relu',input_shape=(28,28,1)),\n",
        "     layers.MaxPooling2D((2,2)),\n",
        "     #2nd layer\n",
        "     layers.Conv2D(filters=64,kernel_size=(3,3),activation=\"relu\"),\n",
        "     layers.MaxPooling2D((2,2)),\n",
        "    #  #3rd layer\n",
        "    #  layers.Conv2D(filters=128,kernel_size=(3,3),activation=\"relu\"),\n",
        "    #  layers.MaxPooling2D((2,2)),\n",
        "     #Flattening\n",
        "     layers.Flatten(),\n",
        "     layers.Dense(64,activation=\"relu\"),\n",
        "     layers.Dense(10,activation=\"softmax\"),#we use softmax because of multi class\n",
        " ])"
      ],
      "metadata": {
        "colab": {
          "base_uri": "https://localhost:8080/"
        },
        "id": "drlh-iQbWE8G",
        "outputId": "380ab8ea-e7ac-4371-9505-7935224750fb"
      },
      "execution_count": null,
      "outputs": [
        {
          "output_type": "stream",
          "name": "stderr",
          "text": [
            "/usr/local/lib/python3.11/dist-packages/keras/src/layers/convolutional/base_conv.py:107: UserWarning: Do not pass an `input_shape`/`input_dim` argument to a layer. When using Sequential models, prefer using an `Input(shape)` object as the first layer in the model instead.\n",
            "  super().__init__(activity_regularizer=activity_regularizer, **kwargs)\n"
          ]
        }
      ]
    },
    {
      "cell_type": "code",
      "source": [
        "#Compile the model\n",
        "model.compile(\n",
        "    optimizer=\"adam\",#Adaptive Momment estimation\n",
        "    loss=\"sparse_categorical_crossentropy\",\n",
        "    metrics=[\"accuracy\"])"
      ],
      "metadata": {
        "id": "0vfSuOkAWFhZ"
      },
      "execution_count": null,
      "outputs": []
    },
    {
      "cell_type": "code",
      "source": [
        "# train the model\n",
        "model.fit(X_train,y_train,epochs=15)"
      ],
      "metadata": {
        "colab": {
          "base_uri": "https://localhost:8080/"
        },
        "id": "u3nQlYtTWqAw",
        "outputId": "0c87c84b-fdcf-48bd-919a-0afbd2386d8f"
      },
      "execution_count": null,
      "outputs": [
        {
          "output_type": "stream",
          "name": "stdout",
          "text": [
            "Epoch 1/15\n",
            "\u001b[1m1875/1875\u001b[0m \u001b[32m━━━━━━━━━━━━━━━━━━━━\u001b[0m\u001b[37m\u001b[0m \u001b[1m57s\u001b[0m 30ms/step - accuracy: 0.7722 - loss: 0.6456\n",
            "Epoch 2/15\n",
            "\u001b[1m1875/1875\u001b[0m \u001b[32m━━━━━━━━━━━━━━━━━━━━\u001b[0m\u001b[37m\u001b[0m \u001b[1m57s\u001b[0m 30ms/step - accuracy: 0.8804 - loss: 0.3285\n",
            "Epoch 3/15\n",
            "\u001b[1m1875/1875\u001b[0m \u001b[32m━━━━━━━━━━━━━━━━━━━━\u001b[0m\u001b[37m\u001b[0m \u001b[1m85s\u001b[0m 32ms/step - accuracy: 0.8989 - loss: 0.2724\n",
            "Epoch 4/15\n",
            "\u001b[1m1875/1875\u001b[0m \u001b[32m━━━━━━━━━━━━━━━━━━━━\u001b[0m\u001b[37m\u001b[0m \u001b[1m56s\u001b[0m 30ms/step - accuracy: 0.9121 - loss: 0.2364\n",
            "Epoch 5/15\n",
            "\u001b[1m1875/1875\u001b[0m \u001b[32m━━━━━━━━━━━━━━━━━━━━\u001b[0m\u001b[37m\u001b[0m \u001b[1m84s\u001b[0m 31ms/step - accuracy: 0.9192 - loss: 0.2145\n",
            "Epoch 6/15\n",
            "\u001b[1m1875/1875\u001b[0m \u001b[32m━━━━━━━━━━━━━━━━━━━━\u001b[0m\u001b[37m\u001b[0m \u001b[1m81s\u001b[0m 30ms/step - accuracy: 0.9285 - loss: 0.1905\n",
            "Epoch 7/15\n",
            "\u001b[1m1875/1875\u001b[0m \u001b[32m━━━━━━━━━━━━━━━━━━━━\u001b[0m\u001b[37m\u001b[0m \u001b[1m58s\u001b[0m 31ms/step - accuracy: 0.9373 - loss: 0.1706\n",
            "Epoch 8/15\n",
            "\u001b[1m1875/1875\u001b[0m \u001b[32m━━━━━━━━━━━━━━━━━━━━\u001b[0m\u001b[37m\u001b[0m \u001b[1m79s\u001b[0m 30ms/step - accuracy: 0.9418 - loss: 0.1529\n",
            "Epoch 9/15\n",
            "\u001b[1m1875/1875\u001b[0m \u001b[32m━━━━━━━━━━━━━━━━━━━━\u001b[0m\u001b[37m\u001b[0m \u001b[1m82s\u001b[0m 30ms/step - accuracy: 0.9486 - loss: 0.1374\n",
            "Epoch 10/15\n",
            "\u001b[1m1875/1875\u001b[0m \u001b[32m━━━━━━━━━━━━━━━━━━━━\u001b[0m\u001b[37m\u001b[0m \u001b[1m58s\u001b[0m 31ms/step - accuracy: 0.9515 - loss: 0.1292\n",
            "Epoch 11/15\n",
            "\u001b[1m1875/1875\u001b[0m \u001b[32m━━━━━━━━━━━━━━━━━━━━\u001b[0m\u001b[37m\u001b[0m \u001b[1m56s\u001b[0m 30ms/step - accuracy: 0.9577 - loss: 0.1120\n",
            "Epoch 12/15\n",
            "\u001b[1m1875/1875\u001b[0m \u001b[32m━━━━━━━━━━━━━━━━━━━━\u001b[0m\u001b[37m\u001b[0m \u001b[1m81s\u001b[0m 30ms/step - accuracy: 0.9636 - loss: 0.0987\n",
            "Epoch 13/15\n",
            "\u001b[1m1875/1875\u001b[0m \u001b[32m━━━━━━━━━━━━━━━━━━━━\u001b[0m\u001b[37m\u001b[0m \u001b[1m82s\u001b[0m 30ms/step - accuracy: 0.9650 - loss: 0.0924\n",
            "Epoch 14/15\n",
            "\u001b[1m1875/1875\u001b[0m \u001b[32m━━━━━━━━━━━━━━━━━━━━\u001b[0m\u001b[37m\u001b[0m \u001b[1m56s\u001b[0m 30ms/step - accuracy: 0.9690 - loss: 0.0830\n",
            "Epoch 15/15\n",
            "\u001b[1m1875/1875\u001b[0m \u001b[32m━━━━━━━━━━━━━━━━━━━━\u001b[0m\u001b[37m\u001b[0m \u001b[1m57s\u001b[0m 30ms/step - accuracy: 0.9735 - loss: 0.0746\n"
          ]
        },
        {
          "output_type": "execute_result",
          "data": {
            "text/plain": [
              "<keras.src.callbacks.history.History at 0x783058807050>"
            ]
          },
          "metadata": {},
          "execution_count": 97
        }
      ]
    },
    {
      "cell_type": "code",
      "source": [
        "#Evaluate the model\n",
        "loss,accuracy = model.evaluate(X_test,y_test)\n",
        "print(loss,accuracy)"
      ],
      "metadata": {
        "colab": {
          "base_uri": "https://localhost:8080/"
        },
        "id": "XEBwMpUTYrKQ",
        "outputId": "a64779e4-4ab4-4485-96eb-2d3d03f17a7b"
      },
      "execution_count": null,
      "outputs": [
        {
          "output_type": "stream",
          "name": "stdout",
          "text": [
            "\u001b[1m313/313\u001b[0m \u001b[32m━━━━━━━━━━━━━━━━━━━━\u001b[0m\u001b[37m\u001b[0m \u001b[1m3s\u001b[0m 10ms/step - accuracy: 0.9087 - loss: 0.3552\n",
            "0.3424990475177765 0.9093999862670898\n"
          ]
        }
      ]
    },
    {
      "cell_type": "code",
      "source": [
        "# Output Class\n",
        "output = [\"Pant\",\"Shirt\",\"Cap\",\"Shoes\",\"Sunglasses\",\"Belt\",\"Gloves\",\"Socks\",\"Bag\",\"Skirt\"]#10 classes because of layers.Dense"
      ],
      "metadata": {
        "id": "zkYhZMZlZtXT"
      },
      "execution_count": null,
      "outputs": []
    },
    {
      "cell_type": "code",
      "source": [
        "#take input\n",
        "def preprocess_and_predict_image(images):\n",
        "    img = Image.open(images).convert(\"L\").resize((28,28))\n",
        "    a_array = np.array(img)\n",
        "\n",
        "   #invert the array\n",
        "    a_in = 255 - a_array\n",
        "\n",
        "  #Normalize the array\n",
        "    a_in = a_in/255.0\n",
        "    a_in = a_in.reshape(1,28,28,1)\n",
        "\n",
        "    #Prediction\n",
        "    pre = model.predict(a_in)\n",
        "    pre_label = output[np.argmax(pre)]\n",
        "    print(pre_label)\n",
        "\n",
        "    #to show the figure\n",
        "    plt.imshow(a_in.reshape(28,28),cmap=\"gray\")\n",
        "    plt.title(pre_label)\n",
        "    plt.axis(\"off\")\n",
        "    plt.show()"
      ],
      "metadata": {
        "id": "JxQCFfrWbHv4"
      },
      "execution_count": null,
      "outputs": []
    },
    {
      "cell_type": "code",
      "source": [
        "preprocess_and_predict_image(\"/content/pant.png\")"
      ],
      "metadata": {
        "colab": {
          "base_uri": "https://localhost:8080/",
          "height": 463
        },
        "id": "DSXZghjDe9CT",
        "outputId": "e5773333-5ade-4923-be1f-5801677ecb13"
      },
      "execution_count": null,
      "outputs": [
        {
          "output_type": "stream",
          "name": "stdout",
          "text": [
            "\u001b[1m1/1\u001b[0m \u001b[32m━━━━━━━━━━━━━━━━━━━━\u001b[0m\u001b[37m\u001b[0m \u001b[1m0s\u001b[0m 47ms/step\n",
            "Gloves\n"
          ]
        },
        {
          "output_type": "display_data",
          "data": {
            "text/plain": [
              "<Figure size 640x480 with 1 Axes>"
            ],
            "image/png": "[encoded data removed]"
          },
          "metadata": {}
        }
      ]
    },
    {
      "cell_type": "code",
      "metadata": {
        "id": "1UI_vT5TeYB7"
      },
      "source": [
        "# # Output Class\n",
        "# output = [\"T-shirt/top\",\"Trouser\",\"Pullover\",\"Dress\",\"Coat\",\"Sandal\",\"Shirt\",\"Sneaker\",\"Bag\",\"Ankle boot\"]#10 classes because of layers.Dense\n",
        "\n",
        "# # Get predictions for the first 10 test images\n",
        "# pre = model.predict(X_test[:10])\n",
        "\n",
        "# plt.figure(figsize=(10,8))\n",
        "# for i in range(10):\n",
        "#   plt.subplot(2,5,i+1)\n",
        "#   plt.imshow(x_test[i],cmap=\"gray\")\n",
        "\n",
        "#   pre_label= np.argmax(pre[i])\n",
        "#   actual= y_test[i]\n",
        "#   color=\"green\" if pre_label==actual else \"red\"\n",
        "#   plt.title(f\"pre: {output[pre_label]}\\n actual: {output[actual]}\", color=color)\n",
        "#   plt.axis(\"off\")\n",
        "# plt.tight_layout()\n",
        "# plt.show()"
      ],
      "execution_count": null,
      "outputs": []
    },
    {
      "cell_type": "code",
      "source": [],
      "metadata": {
        "id": "FjKEcowvlZTd"
      },
      "execution_count": null,
      "outputs": []
    },
    {
      "cell_type": "code",
      "source": [],
      "metadata": {
        "id": "EmZIIJsWldBJ"
      },
      "execution_count": null,
      "outputs": []
    }
  ]
}