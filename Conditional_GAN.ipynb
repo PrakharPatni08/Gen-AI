{
  "cells": [
    {
      "cell_type": "markdown",
      "metadata": {
        "id": "view-in-github",
        "colab_type": "text"
      },
      "source": [
        "<a href=\"https://colab.research.google.com/github/PrakharPatni08/Gen-AI/blob/main/Conditional_GAN.ipynb\" target=\"_parent\"><img src=\"https://colab.research.google.com/assets/colab-badge.svg\" alt=\"Open In Colab\"/></a>"
      ]
    },
    {
      "cell_type": "markdown",
      "metadata": {
        "id": "7DVQNKvVg0ns"
      },
      "source": [
        "# Conditional GAN:\n",
        "A Conditional GAN is a special type of GAN where you give extra information to both the generator and the discriminator use to create output that match that condition\n",
        "\n",
        "# Use Cases\n",
        "1. Image to image translation\n",
        "2. Label controlled\n",
        "3. Text to image\n",
        "\n",
        "#Workflow of Conditional GAN:\n",
        "Step 1:- Data prepration:\n",
        "1. Data load\n",
        "2. Normalization\n",
        "3. expand dimensions\n",
        "\n",
        "Step 2:- Build Generator:\n",
        "1. Inputs(noise vector, Labelled Inputs)\n",
        "2. Label embeddinng\n",
        "3. Concat Image+Label\n",
        "4. Build Layers(conv2D, Leaky Relu, Dropout Layers,Flatten Layer, Dense Layer(single value output))\n",
        "\n",
        "Step 3:- Build Discriminator\n",
        "1. Inputs(Real and Fake image)\n",
        "2. multiply nosie x label embeddings\n",
        "3. Dense - Reshape\n",
        "4. Unsampling(conv2D Transpose)\n",
        "5. Activation (tanh)\n",
        "\n",
        "Step 4:- Calculate loss and optimizers\n",
        "\n",
        "Step 5:- Training Loop\n",
        "\n",
        "Step 6:-Image Generation(20 image)\n",
        "\n",
        "Step 7:- Generating using specific labels"
      ]
    },
    {
      "cell_type": "code",
      "execution_count": null,
      "metadata": {
        "id": "Rx9xVPBEL1I8"
      },
      "outputs": [],
      "source": [
        "import tensorflow as tf\n",
        "from tensorflow.keras import layers\n",
        "import numpy as np\n",
        "import matplotlib.pyplot as plt\n"
      ]
    },
    {
      "cell_type": "code",
      "execution_count": null,
      "metadata": {
        "colab": {
          "base_uri": "https://localhost:8080/"
        },
        "id": "f7KKWakqL507",
        "outputId": "d964f1b1-faea-4732-9c2a-3d8b32403aca"
      },
      "outputs": [
        {
          "name": "stdout",
          "output_type": "stream",
          "text": [
            "Downloading data from https://storage.googleapis.com/tensorflow/tf-keras-datasets/mnist.npz\n",
            "\u001b[1m11490434/11490434\u001b[0m \u001b[32m━━━━━━━━━━━━━━━━━━━━\u001b[0m\u001b[37m\u001b[0m \u001b[1m0s\u001b[0m 0us/step\n"
          ]
        }
      ],
      "source": [
        "\n",
        "\n",
        "# -------------------------------\n",
        "# Step 1: Data Preparation\n",
        "# -------------------------------\n",
        "def load_and_preprocess_data():\n",
        "    # Example with MNIST dataset\n",
        "    (x_train, y_train), (_, _) = tf.keras.datasets.mnist.load_data()\n",
        "\n",
        "    # Normalize to [-1, 1]\n",
        "    x_train = (x_train.astype(\"float32\") - 127.5) / 127.5\n",
        "    x_train = np.expand_dims(x_train, axis=-1)  # expand dims to (28,28,1)\n",
        "\n",
        "    return x_train, y_train\n",
        "\n",
        "x_train, y_train = load_and_preprocess_data()\n",
        "BUFFER_SIZE = x_train.shape[0]\n",
        "BATCH_SIZE = 64\n",
        "LATENT_DIM = 100\n",
        "NUM_CLASSES = 10  # MNIST digits\n"
      ]
    },
    {
      "cell_type": "code",
      "execution_count": null,
      "metadata": {
        "id": "3zWwu7DnL_OL"
      },
      "outputs": [],
      "source": [
        "# -------------------------------\n",
        "# Step 2: Build Generator\n",
        "# -------------------------------\n",
        "def build_generator(latent_dim, num_classes):\n",
        "    noise_input = layers.Input(shape=(latent_dim,))\n",
        "    label_input = layers.Input(shape=(1,), dtype=\"int32\")\n",
        "\n",
        "    # Label embedding\n",
        "    label_embedding = layers.Embedding(num_classes, latent_dim)(label_input)\n",
        "    label_embedding = layers.Flatten()(label_embedding)\n",
        "\n",
        "    # Combine noise + label\n",
        "    combined_input = layers.multiply([noise_input, label_embedding])\n",
        "\n",
        "    x = layers.Dense(7*7*256, use_bias=False)(combined_input)\n",
        "    x = layers.BatchNormalization()(x)\n",
        "    x = layers.LeakyReLU()(x)\n",
        "    x = layers.Reshape((7, 7, 256))(x)\n",
        "\n",
        "    x = layers.Conv2DTranspose(128, (5,5), strides=(1,1), padding=\"same\", use_bias=False)(x)\n",
        "    x = layers.BatchNormalization()(x)\n",
        "    x = layers.LeakyReLU()(x)\n",
        "\n",
        "    x = layers.Conv2DTranspose(64, (5,5), strides=(2,2), padding=\"same\", use_bias=False)(x)\n",
        "    x = layers.BatchNormalization()(x)\n",
        "    x = layers.LeakyReLU()(x)\n",
        "\n",
        "    img_output = layers.Conv2DTranspose(1, (5,5), strides=(2,2), padding=\"same\", use_bias=False, activation=\"tanh\")(x)\n",
        "\n",
        "    return tf.keras.Model([noise_input, label_input], img_output, name=\"Generator\")\n",
        "\n",
        "generator = build_generator(LATENT_DIM, NUM_CLASSES)"
      ]
    },
    {
      "cell_type": "code",
      "execution_count": null,
      "metadata": {
        "id": "ZzVWDvX7MH4M"
      },
      "outputs": [],
      "source": [
        "# -------------------------------\n",
        "# Step 3: Build Discriminator\n",
        "# -------------------------------\n",
        "def build_discriminator(num_classes):\n",
        "    img_input = layers.Input(shape=(28,28,1))\n",
        "    label_input = layers.Input(shape=(1,), dtype=\"int32\")\n",
        "\n",
        "    # Label embedding\n",
        "    label_embedding = layers.Embedding(num_classes, 28*28)(label_input)\n",
        "    label_embedding = layers.Flatten()(label_embedding)\n",
        "    label_embedding = layers.Reshape((28,28,1))(label_embedding)\n",
        "\n",
        "    # Concatenate label with image\n",
        "    x = layers.Concatenate()([img_input, label_embedding])\n",
        "\n",
        "    x = layers.Conv2D(64, (5,5), strides=(2,2), padding=\"same\")(x)\n",
        "    x = layers.LeakyReLU()(x)\n",
        "    x = layers.Dropout(0.3)(x)\n",
        "\n",
        "    x = layers.Conv2D(128, (5,5), strides=(2,2), padding=\"same\")(x)\n",
        "    x = layers.LeakyReLU()(x)\n",
        "    x = layers.Dropout(0.3)(x)\n",
        "\n",
        "    x = layers.Flatten()(x)\n",
        "    out = layers.Dense(1, activation=\"sigmoid\")(x)\n",
        "\n",
        "    return tf.keras.Model([img_input, label_input], out, name=\"Discriminator\")\n",
        "\n",
        "discriminator = build_discriminator(NUM_CLASSES)\n",
        "\n"
      ]
    },
    {
      "cell_type": "code",
      "execution_count": null,
      "metadata": {
        "id": "WIz75ujyMQ_a"
      },
      "outputs": [],
      "source": [
        "# -------------------------------\n",
        "# Step 4: Losses & Optimizers\n",
        "# -------------------------------\n",
        "cross_entropy = tf.keras.losses.BinaryCrossentropy(from_logits=False)\n",
        "\n",
        "def discriminator_loss(real_output, fake_output):\n",
        "    real_loss = cross_entropy(tf.ones_like(real_output), real_output)\n",
        "    fake_loss = cross_entropy(tf.zeros_like(fake_output), fake_output)\n",
        "    return real_loss + fake_loss\n",
        "\n",
        "def generator_loss(fake_output):\n",
        "    return cross_entropy(tf.ones_like(fake_output), fake_output)\n",
        "\n",
        "generator_optimizer = tf.keras.optimizers.Adam(1e-4)\n",
        "discriminator_optimizer = tf.keras.optimizers.Adam(1e-4)\n"
      ]
    },
    {
      "cell_type": "code",
      "execution_count": null,
      "metadata": {
        "id": "hB-vOOhFMH6n"
      },
      "outputs": [],
      "source": [
        "\n",
        "\n",
        "# -------------------------------\n",
        "# Step 5: Training Loop\n",
        "# -------------------------------\n",
        "@tf.function\n",
        "def train_step(images, labels):\n",
        "    noise = tf.random.normal([BATCH_SIZE, LATENT_DIM])\n",
        "    random_labels = tf.random.uniform([BATCH_SIZE, 1], minval=0, maxval=NUM_CLASSES, dtype=tf.int32)\n",
        "\n",
        "    with tf.GradientTape() as gen_tape, tf.GradientTape() as disc_tape:\n",
        "        generated_images = generator([noise, random_labels], training=True)\n",
        "\n",
        "        real_output = discriminator([images, labels], training=True)\n",
        "        fake_output = discriminator([generated_images, random_labels], training=True)\n",
        "\n",
        "        gen_loss = generator_loss(fake_output)\n",
        "        disc_loss = discriminator_loss(real_output, fake_output)\n",
        "\n",
        "    gradients_of_generator = gen_tape.gradient(gen_loss, generator.trainable_variables)\n",
        "    gradients_of_discriminator = disc_tape.gradient(disc_loss, discriminator.trainable_variables)\n",
        "\n",
        "    generator_optimizer.apply_gradients(zip(gradients_of_generator, generator.trainable_variables))\n",
        "    discriminator_optimizer.apply_gradients(zip(gradients_of_discriminator, discriminator.trainable_variables))\n",
        "\n",
        "    return gen_loss, disc_loss\n",
        "\n",
        "def train(dataset, labels, epochs):\n",
        "    for epoch in range(epochs):\n",
        "        for i in range(0, dataset.shape[0], BATCH_SIZE):\n",
        "            image_batch = dataset[i:i+BATCH_SIZE]\n",
        "            label_batch = labels[i:i+BATCH_SIZE]\n",
        "\n",
        "            if image_batch.shape[0] != BATCH_SIZE:  # Skip last incomplete batch\n",
        "                continue\n",
        "\n",
        "            g_loss, d_loss = train_step(image_batch, label_batch.reshape(-1,1))\n",
        "\n",
        "        print(f\"Epoch {epoch+1}/{epochs} | Gen Loss: {g_loss:.4f} | Disc Loss: {d_loss:.4f}\")\n",
        "\n"
      ]
    },
    {
      "cell_type": "code",
      "execution_count": null,
      "metadata": {
        "id": "ZWft0d7OMH80"
      },
      "outputs": [],
      "source": [
        "\n",
        "\n",
        "# -------------------------------\n",
        "# Step 6: Image Generation\n",
        "# -------------------------------\n",
        "def generate_and_plot_images(generator, n_images=20, label=1):\n",
        "    noise = tf.random.normal([n_images, LATENT_DIM])\n",
        "    labels = tf.constant([[label]]*n_images)\n",
        "    generated_images = generator([noise, labels], training=False)\n",
        "\n",
        "    plt.figure(figsize=(10,10))\n",
        "    for i in range(n_images):\n",
        "        plt.subplot(4,5,i+1)\n",
        "        plt.imshow((generated_images[i,:,:,0]+1)/2, cmap=\"gray\")\n",
        "        plt.axis(\"off\")\n",
        "    plt.show()\n",
        "\n"
      ]
    },
    {
      "cell_type": "code",
      "execution_count": null,
      "metadata": {
        "colab": {
          "background_save": true,
          "base_uri": "https://localhost:8080/"
        },
        "id": "frgET3nDMH_V",
        "outputId": "d763ea66-c273-48de-c270-a0f8cb64860c"
      },
      "outputs": [
        {
          "name": "stdout",
          "output_type": "stream",
          "text": [
            "Epoch 1/50 | Gen Loss: 0.8744 | Disc Loss: 1.2149\n",
            "Epoch 2/50 | Gen Loss: 0.9351 | Disc Loss: 1.2192\n",
            "Epoch 3/50 | Gen Loss: 1.2021 | Disc Loss: 1.2639\n",
            "Epoch 4/50 | Gen Loss: 0.5802 | Disc Loss: 1.4692\n",
            "Epoch 5/50 | Gen Loss: 0.7774 | Disc Loss: 1.1829\n",
            "Epoch 6/50 | Gen Loss: 0.7234 | Disc Loss: 1.2715\n",
            "Epoch 7/50 | Gen Loss: 0.7841 | Disc Loss: 1.1148\n",
            "Epoch 8/50 | Gen Loss: 0.7357 | Disc Loss: 1.2346\n",
            "Epoch 9/50 | Gen Loss: 0.6417 | Disc Loss: 1.2090\n",
            "Epoch 10/50 | Gen Loss: 0.6503 | Disc Loss: 1.2330\n",
            "Epoch 11/50 | Gen Loss: 0.6441 | Disc Loss: 1.4693\n",
            "Epoch 12/50 | Gen Loss: 0.5374 | Disc Loss: 1.5461\n",
            "Epoch 13/50 | Gen Loss: 0.7436 | Disc Loss: 1.3802\n"
          ]
        }
      ],
      "source": [
        "# -------------------------------\n",
        "# Run Training & Generate\n",
        "# -------------------------------\n",
        "EPOCHS = 50\n",
        "train(x_train, y_train, EPOCHS)"
      ]
    },
    {
      "cell_type": "code",
      "execution_count": null,
      "metadata": {
        "id": "qTTAzGapMIB4"
      },
      "outputs": [],
      "source": [
        "\n",
        "# Generate 20 images of digit '7'\n",
        "generate_and_plot_images(generator, n_images=20, label=7)\n"
      ]
    },
    {
      "cell_type": "code",
      "execution_count": null,
      "metadata": {
        "id": "zUfa905sMIFa"
      },
      "outputs": [],
      "source": []
    }
  ],
  "metadata": {
    "colab": {
      "provenance": [],
      "authorship_tag": "ABX9TyPwaOIcxmrpAc1KHqfHJeZN",
      "include_colab_link": true
    },
    "kernelspec": {
      "display_name": "Python 3",
      "name": "python3"
    },
    "language_info": {
      "name": "python"
    }
  },
  "nbformat": 4,
  "nbformat_minor": 0
}